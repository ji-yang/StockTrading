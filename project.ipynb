{
 "cells": [
  {
   "cell_type": "markdown",
   "metadata": {},
   "source": [
    "# Equities Pair Trading with Kalman Filter"
   ]
  },
  {
   "cell_type": "markdown",
   "metadata": {},
   "source": [
    "## Data Preprocessing"
   ]
  },
  {
   "cell_type": "code",
   "execution_count": 1,
   "metadata": {
    "scrolled": true
   },
   "outputs": [],
   "source": [
    "using Feather, DataFrames, CSV, DelimitedFiles"
   ]
  },
  {
   "cell_type": "markdown",
   "metadata": {},
   "source": [
    "#### The Financials Sector"
   ]
  },
  {
   "cell_type": "code",
   "execution_count": 2,
   "metadata": {
    "scrolled": true
   },
   "outputs": [
    {
     "data": {
      "text/plain": [
       "1215"
      ]
     },
     "execution_count": 2,
     "metadata": {},
     "output_type": "execute_result"
    }
   ],
   "source": [
    "fin = CSV.read(\"financial_stocks.csv\")\n",
    "fin_ticker_raw = fin.Ticker\n",
    "size(fin_ticker_raw,1)"
   ]
  },
  {
   "cell_type": "code",
   "execution_count": 3,
   "metadata": {},
   "outputs": [
    {
     "data": {
      "text/plain": [
       "(359, 6)"
      ]
     },
     "execution_count": 3,
     "metadata": {},
     "output_type": "execute_result"
    }
   ],
   "source": [
    "df = Feather.read(\"bar_data_1D/allDaily-A.feather\")\n",
    "size(df)"
   ]
  },
  {
   "cell_type": "code",
   "execution_count": 4,
   "metadata": {},
   "outputs": [
    {
     "data": {
      "text/plain": [
       "(\"2017-06-26\", \"2018-11-26\")"
      ]
     },
     "execution_count": 4,
     "metadata": {},
     "output_type": "execute_result"
    }
   ],
   "source": [
    "df.Date[1], df.Date[end]"
   ]
  },
  {
   "cell_type": "code",
   "execution_count": 5,
   "metadata": {},
   "outputs": [
    {
     "data": {
      "text/plain": [
       "1215×359 Array{Float64,2}:\n",
       " 0.0  0.0  0.0  0.0  0.0  0.0  0.0  0.0  …  0.0  0.0  0.0  0.0  0.0  0.0  0.0\n",
       " 0.0  0.0  0.0  0.0  0.0  0.0  0.0  0.0     0.0  0.0  0.0  0.0  0.0  0.0  0.0\n",
       " 0.0  0.0  0.0  0.0  0.0  0.0  0.0  0.0     0.0  0.0  0.0  0.0  0.0  0.0  0.0\n",
       " 0.0  0.0  0.0  0.0  0.0  0.0  0.0  0.0     0.0  0.0  0.0  0.0  0.0  0.0  0.0\n",
       " 0.0  0.0  0.0  0.0  0.0  0.0  0.0  0.0     0.0  0.0  0.0  0.0  0.0  0.0  0.0\n",
       " 0.0  0.0  0.0  0.0  0.0  0.0  0.0  0.0  …  0.0  0.0  0.0  0.0  0.0  0.0  0.0\n",
       " 0.0  0.0  0.0  0.0  0.0  0.0  0.0  0.0     0.0  0.0  0.0  0.0  0.0  0.0  0.0\n",
       " 0.0  0.0  0.0  0.0  0.0  0.0  0.0  0.0     0.0  0.0  0.0  0.0  0.0  0.0  0.0\n",
       " 0.0  0.0  0.0  0.0  0.0  0.0  0.0  0.0     0.0  0.0  0.0  0.0  0.0  0.0  0.0\n",
       " 0.0  0.0  0.0  0.0  0.0  0.0  0.0  0.0     0.0  0.0  0.0  0.0  0.0  0.0  0.0\n",
       " 0.0  0.0  0.0  0.0  0.0  0.0  0.0  0.0  …  0.0  0.0  0.0  0.0  0.0  0.0  0.0\n",
       " 0.0  0.0  0.0  0.0  0.0  0.0  0.0  0.0     0.0  0.0  0.0  0.0  0.0  0.0  0.0\n",
       " 0.0  0.0  0.0  0.0  0.0  0.0  0.0  0.0     0.0  0.0  0.0  0.0  0.0  0.0  0.0\n",
       " ⋮                        ⋮              ⋱                 ⋮                 \n",
       " 0.0  0.0  0.0  0.0  0.0  0.0  0.0  0.0     0.0  0.0  0.0  0.0  0.0  0.0  0.0\n",
       " 0.0  0.0  0.0  0.0  0.0  0.0  0.0  0.0     0.0  0.0  0.0  0.0  0.0  0.0  0.0\n",
       " 0.0  0.0  0.0  0.0  0.0  0.0  0.0  0.0  …  0.0  0.0  0.0  0.0  0.0  0.0  0.0\n",
       " 0.0  0.0  0.0  0.0  0.0  0.0  0.0  0.0     0.0  0.0  0.0  0.0  0.0  0.0  0.0\n",
       " 0.0  0.0  0.0  0.0  0.0  0.0  0.0  0.0     0.0  0.0  0.0  0.0  0.0  0.0  0.0\n",
       " 0.0  0.0  0.0  0.0  0.0  0.0  0.0  0.0     0.0  0.0  0.0  0.0  0.0  0.0  0.0\n",
       " 0.0  0.0  0.0  0.0  0.0  0.0  0.0  0.0     0.0  0.0  0.0  0.0  0.0  0.0  0.0\n",
       " 0.0  0.0  0.0  0.0  0.0  0.0  0.0  0.0  …  0.0  0.0  0.0  0.0  0.0  0.0  0.0\n",
       " 0.0  0.0  0.0  0.0  0.0  0.0  0.0  0.0     0.0  0.0  0.0  0.0  0.0  0.0  0.0\n",
       " 0.0  0.0  0.0  0.0  0.0  0.0  0.0  0.0     0.0  0.0  0.0  0.0  0.0  0.0  0.0\n",
       " 0.0  0.0  0.0  0.0  0.0  0.0  0.0  0.0     0.0  0.0  0.0  0.0  0.0  0.0  0.0\n",
       " 0.0  0.0  0.0  0.0  0.0  0.0  0.0  0.0     0.0  0.0  0.0  0.0  0.0  0.0  0.0"
      ]
     },
     "execution_count": 5,
     "metadata": {},
     "output_type": "execute_result"
    }
   ],
   "source": [
    "fin_data_raw = zeros((size(fin_ticker_raw,1), size(df,1)))"
   ]
  },
  {
   "cell_type": "code",
   "execution_count": 6,
   "metadata": {},
   "outputs": [],
   "source": [
    "for i in 1:size(fin_ticker_raw,1)\n",
    "    try\n",
    "        filename = string(\"bar_data_1D/allDaily-\", fin_ticker_raw[i], \".feather\")\n",
    "        df = Feather.read(filename)\n",
    "        fin_data_raw[i,:] = [df.Close[j] for j in 1:size(df,1)]\n",
    "    catch y\n",
    "        #@warn(\"Exception:\", y)\n",
    "    end\n",
    "end"
   ]
  },
  {
   "cell_type": "code",
   "execution_count": 7,
   "metadata": {},
   "outputs": [
    {
     "data": {
      "text/plain": [
       "1215×359 Array{Float64,2}:\n",
       "   0.0     0.0     0.0     0.0     0.0   …    0.0     0.0     0.0     0.0 \n",
       "   0.0     0.0     0.0     0.0     0.0        0.0     0.0     0.0     0.0 \n",
       "   0.0     0.0     0.0     0.0     0.0        0.0     0.0     0.0     0.0 \n",
       "  23.6    23.25   23.35   23.3    23.65      29.35   29.88   29.99   29.92\n",
       "  46.35   47.05   48.15   48.75   48.2       42.46   42.46   42.49   43.16\n",
       "  13.67   13.71   13.37   13.5    13.59  …    6.32    6.43    6.46    6.37\n",
       "  33.05   32.85   34.4    34.05   34.0       42.11   42.81   43.22   42.51\n",
       "   0.0     0.0     0.0     0.0     0.0        0.0     0.0     0.0     0.0 \n",
       "   0.0     0.0     0.0     0.0     0.0        0.0     0.0     0.0     0.0 \n",
       "   0.0     0.0     0.0     0.0     0.0        0.0     0.0     0.0     0.0 \n",
       "   0.0     0.0     0.0     0.0     0.0   …    0.0     0.0     0.0     0.0 \n",
       "  29.85   29.7    30.0    30.55   30.5       37.56   36.52   35.9    36.38\n",
       "   0.0     0.0     0.0     0.0     0.0        0.0     0.0     0.0     0.0 \n",
       "   ⋮                                     ⋱    ⋮                           \n",
       "  23.25   23.2    23.8    23.85   23.65      20.56   20.67   20.67   20.46\n",
       "   0.0     0.0     0.0     0.0     0.0        0.0     0.0     0.0     0.0 \n",
       "   0.0     0.0     0.0     0.0     0.0   …    0.0     0.0     0.0     0.0 \n",
       "  73.75   73.57   74.86   77.03   76.44      75.26   76.13   75.83   77.24\n",
       " 865.92  869.62  869.43  870.0   868.63     912.47  909.58  900.0   904.62\n",
       "  19.01   18.88   18.97   18.86   19.05      18.62   18.43   18.46   18.53\n",
       "   0.0     0.0     0.0     0.0     0.0        0.0     0.0     0.0     0.0 \n",
       "   0.0     0.0     0.0     0.0     0.0   …    0.0     0.0     0.0     0.0 \n",
       "   0.0     0.0     0.0     0.0     0.0        0.0     0.0     0.0     0.0 \n",
       "   0.0     0.0     0.0     0.0     0.0        0.0     0.0     0.0     0.0 \n",
       "  42.34   42.54   42.97   43.99   43.91      47.38   47.11   47.02   48.07\n",
       "   0.0     0.0     0.0     0.0     0.0        0.0     0.0     0.0     0.0 "
      ]
     },
     "execution_count": 7,
     "metadata": {},
     "output_type": "execute_result"
    }
   ],
   "source": [
    "fin_data_raw"
   ]
  },
  {
   "cell_type": "code",
   "execution_count": 8,
   "metadata": {},
   "outputs": [
    {
     "data": {
      "text/plain": [
       "465"
      ]
     },
     "execution_count": 8,
     "metadata": {},
     "output_type": "execute_result"
    }
   ],
   "source": [
    "cnt = 0\n",
    "for i in 1:size(fin_data_raw,1)\n",
    "    if fin_data_raw[i,1] != 0\n",
    "        cnt += 1\n",
    "    end\n",
    "end\n",
    "cnt"
   ]
  },
  {
   "cell_type": "code",
   "execution_count": 9,
   "metadata": {},
   "outputs": [],
   "source": [
    "fin_data = zeros((cnt, size(df,1)))\n",
    "fin_ticker = Array{String}(undef, cnt)\n",
    "j = 1\n",
    "for i in 1:size(fin_data_raw,1)\n",
    "    if fin_data_raw[i,1] != 0\n",
    "        fin_data[j,:] = [fin_data_raw[i,k] for k in 1:size(fin_data_raw, 2)]\n",
    "        fin_ticker[j] = fin_ticker_raw[i]\n",
    "        j += 1\n",
    "    end\n",
    "end"
   ]
  },
  {
   "cell_type": "code",
   "execution_count": 10,
   "metadata": {
    "scrolled": true
   },
   "outputs": [],
   "source": [
    "@assert(j==cnt+1)"
   ]
  },
  {
   "cell_type": "markdown",
   "metadata": {},
   "source": [
    "Filter valid data"
   ]
  },
  {
   "cell_type": "code",
   "execution_count": 11,
   "metadata": {},
   "outputs": [],
   "source": [
    "open(\"finticker.csv\", \"w\") do f\n",
    "    writedlm(f, fin_ticker, ',')\n",
    "end\n",
    "\n",
    "open(\"findata.csv\", \"w\") do f\n",
    "    writedlm(f, fin_data, ',')\n",
    "end"
   ]
  },
  {
   "cell_type": "markdown",
   "metadata": {},
   "source": [
    "#### The Technology Sector"
   ]
  },
  {
   "cell_type": "code",
   "execution_count": 12,
   "metadata": {},
   "outputs": [
    {
     "data": {
      "text/plain": [
       "327"
      ]
     },
     "execution_count": 12,
     "metadata": {},
     "output_type": "execute_result"
    }
   ],
   "source": [
    "tech = CSV.read(\"technology_stocks.csv\")\n",
    "tech_ticker_raw = tech.Ticker\n",
    "size(tech_ticker_raw,1)"
   ]
  },
  {
   "cell_type": "code",
   "execution_count": 13,
   "metadata": {},
   "outputs": [
    {
     "data": {
      "text/plain": [
       "327×359 Array{Float64,2}:\n",
       " 0.0  0.0  0.0  0.0  0.0  0.0  0.0  0.0  …  0.0  0.0  0.0  0.0  0.0  0.0  0.0\n",
       " 0.0  0.0  0.0  0.0  0.0  0.0  0.0  0.0     0.0  0.0  0.0  0.0  0.0  0.0  0.0\n",
       " 0.0  0.0  0.0  0.0  0.0  0.0  0.0  0.0     0.0  0.0  0.0  0.0  0.0  0.0  0.0\n",
       " 0.0  0.0  0.0  0.0  0.0  0.0  0.0  0.0     0.0  0.0  0.0  0.0  0.0  0.0  0.0\n",
       " 0.0  0.0  0.0  0.0  0.0  0.0  0.0  0.0     0.0  0.0  0.0  0.0  0.0  0.0  0.0\n",
       " 0.0  0.0  0.0  0.0  0.0  0.0  0.0  0.0  …  0.0  0.0  0.0  0.0  0.0  0.0  0.0\n",
       " 0.0  0.0  0.0  0.0  0.0  0.0  0.0  0.0     0.0  0.0  0.0  0.0  0.0  0.0  0.0\n",
       " 0.0  0.0  0.0  0.0  0.0  0.0  0.0  0.0     0.0  0.0  0.0  0.0  0.0  0.0  0.0\n",
       " 0.0  0.0  0.0  0.0  0.0  0.0  0.0  0.0     0.0  0.0  0.0  0.0  0.0  0.0  0.0\n",
       " 0.0  0.0  0.0  0.0  0.0  0.0  0.0  0.0     0.0  0.0  0.0  0.0  0.0  0.0  0.0\n",
       " 0.0  0.0  0.0  0.0  0.0  0.0  0.0  0.0  …  0.0  0.0  0.0  0.0  0.0  0.0  0.0\n",
       " 0.0  0.0  0.0  0.0  0.0  0.0  0.0  0.0     0.0  0.0  0.0  0.0  0.0  0.0  0.0\n",
       " 0.0  0.0  0.0  0.0  0.0  0.0  0.0  0.0     0.0  0.0  0.0  0.0  0.0  0.0  0.0\n",
       " ⋮                        ⋮              ⋱                 ⋮                 \n",
       " 0.0  0.0  0.0  0.0  0.0  0.0  0.0  0.0  …  0.0  0.0  0.0  0.0  0.0  0.0  0.0\n",
       " 0.0  0.0  0.0  0.0  0.0  0.0  0.0  0.0     0.0  0.0  0.0  0.0  0.0  0.0  0.0\n",
       " 0.0  0.0  0.0  0.0  0.0  0.0  0.0  0.0     0.0  0.0  0.0  0.0  0.0  0.0  0.0\n",
       " 0.0  0.0  0.0  0.0  0.0  0.0  0.0  0.0     0.0  0.0  0.0  0.0  0.0  0.0  0.0\n",
       " 0.0  0.0  0.0  0.0  0.0  0.0  0.0  0.0     0.0  0.0  0.0  0.0  0.0  0.0  0.0\n",
       " 0.0  0.0  0.0  0.0  0.0  0.0  0.0  0.0  …  0.0  0.0  0.0  0.0  0.0  0.0  0.0\n",
       " 0.0  0.0  0.0  0.0  0.0  0.0  0.0  0.0     0.0  0.0  0.0  0.0  0.0  0.0  0.0\n",
       " 0.0  0.0  0.0  0.0  0.0  0.0  0.0  0.0     0.0  0.0  0.0  0.0  0.0  0.0  0.0\n",
       " 0.0  0.0  0.0  0.0  0.0  0.0  0.0  0.0     0.0  0.0  0.0  0.0  0.0  0.0  0.0\n",
       " 0.0  0.0  0.0  0.0  0.0  0.0  0.0  0.0     0.0  0.0  0.0  0.0  0.0  0.0  0.0\n",
       " 0.0  0.0  0.0  0.0  0.0  0.0  0.0  0.0  …  0.0  0.0  0.0  0.0  0.0  0.0  0.0\n",
       " 0.0  0.0  0.0  0.0  0.0  0.0  0.0  0.0     0.0  0.0  0.0  0.0  0.0  0.0  0.0"
      ]
     },
     "execution_count": 13,
     "metadata": {},
     "output_type": "execute_result"
    }
   ],
   "source": [
    "tech_data_raw = zeros((size(tech_ticker_raw,1), size(df,1)))"
   ]
  },
  {
   "cell_type": "code",
   "execution_count": 14,
   "metadata": {},
   "outputs": [],
   "source": [
    "for i in 1:size(tech_ticker_raw,1)\n",
    "    try\n",
    "        filename = string(\"bar_data_1D/allDaily-\", tech_ticker_raw[i], \".feather\")\n",
    "        df = Feather.read(filename)\n",
    "        tech_data_raw[i,:] = [df.Close[j] for j in 1:size(df,1)]\n",
    "    catch y\n",
    "        #@warn(\"Exception:\", y)\n",
    "    end\n",
    "end"
   ]
  },
  {
   "cell_type": "code",
   "execution_count": 15,
   "metadata": {},
   "outputs": [
    {
     "data": {
      "text/plain": [
       "132"
      ]
     },
     "execution_count": 15,
     "metadata": {},
     "output_type": "execute_result"
    }
   ],
   "source": [
    "cnt = 0\n",
    "for i in 1:size(tech_data_raw,1)\n",
    "    if tech_data_raw[i,1] != 0\n",
    "        cnt += 1\n",
    "    end\n",
    "end\n",
    "cnt"
   ]
  },
  {
   "cell_type": "code",
   "execution_count": 16,
   "metadata": {},
   "outputs": [],
   "source": [
    "tech_data = zeros((cnt, size(df,1)))\n",
    "tech_ticker = Array{String}(undef, cnt)\n",
    "j = 1\n",
    "for i in 1:size(tech_data_raw,1)\n",
    "    if tech_data_raw[i,1] != 0\n",
    "        tech_data[j,:] = [tech_data_raw[i,k] for k in 1:size(tech_data_raw, 2)]\n",
    "        tech_ticker[j] = tech_ticker_raw[i]\n",
    "        j += 1\n",
    "    end\n",
    "end\n",
    "@assert(j==cnt+1)"
   ]
  },
  {
   "cell_type": "code",
   "execution_count": 17,
   "metadata": {},
   "outputs": [],
   "source": [
    "open(\"techticker.csv\", \"w\") do f\n",
    "    writedlm(f, tech_ticker, ',')\n",
    "end\n",
    "\n",
    "open(\"techdata.csv\", \"w\") do f\n",
    "    writedlm(f, tech_data, ',')\n",
    "end"
   ]
  },
  {
   "cell_type": "code",
   "execution_count": 18,
   "metadata": {},
   "outputs": [
    {
     "data": {
      "text/plain": [
       "132×359 Array{Float64,2}:\n",
       " 145.82  143.73  145.83  143.68  144.02  …  176.98  176.78  172.29  174.62\n",
       " 122.34  122.19  123.74  122.99  123.68     158.9   156.98  156.93  158.4 \n",
       "  80.57   78.14   79.2    77.74   77.8       89.02   89.68   88.64   90.07\n",
       "  20.0    20.05   20.5    20.4    20.65      12.55   12.94   12.87   12.73\n",
       "  43.25   41.89   42.69   41.44   41.31      35.77   35.19   35.05   36.01\n",
       "  26.69   26.54   26.99   26.64   27.22  …   44.33   46.25   46.7    46.94\n",
       "  10.81   10.54   10.67   10.21   10.29      10.39   10.84   11.01   10.93\n",
       "  74.76   74.23   75.11   73.76   73.82      84.17   84.87   84.98   84.95\n",
       " 133.78  132.37  134.99  129.6   130.31     161.33  163.91  163.66  167.43\n",
       "  60.22   58.29   58.81   57.58   57.57      49.26   50.85   50.05   50.91\n",
       " 242.75  235.33  241.05  234.04  233.05  …  227.71  230.0   229.9   235.31\n",
       "  38.94   38.63   39.2    38.98   38.88      42.04   42.76   42.77   43.36\n",
       "  16.56   16.16   16.55   16.35   16.34      15.77   16.02   16.17   16.06\n",
       "   ⋮                                     ⋱    ⋮                           \n",
       "  36.13   35.09   35.35   34.81   34.96  …   35.64   36.17   35.96   36.84\n",
       "  78.31   76.95   78.06   76.9    76.93      96.84   96.13   95.1    96.38\n",
       "  19.0    18.8    18.85   18.25   18.3       16.87   17.23   17.12   17.31\n",
       "   2.11    2.11    2.33    2.4     2.44       1.74    1.76    1.77    1.83\n",
       "  16.6    16.5    16.9    16.65   16.6       18.95   19.22   19.42   19.35\n",
       "  92.66   91.85   93.67   91.65   88.6   …   45.68   46.9    47.34   47.92\n",
       "  43.1    43.0    43.55   42.45   42.7       48.55   48.2    48.06   48.95\n",
       "   5.12    5.1     5.1     5.13    5.2        5.07    5.12    5.08    5.1 \n",
       " 154.13  151.23  152.88  152.82  154.2      147.45  150.93  149.54  150.8 \n",
       "  19.4    19.32   19.3    19.3    19.35      11.35   11.7    11.91   11.54\n",
       "  67.36   65.1    66.01   64.18   64.32  …   84.68   86.5    87.26   89.01\n",
       "  29.19   28.98   29.29   29.12   28.73      25.29   25.19   25.37   25.84"
      ]
     },
     "execution_count": 18,
     "metadata": {},
     "output_type": "execute_result"
    }
   ],
   "source": [
    "readdlm(\"techdata.csv\", ',')"
   ]
  },
  {
   "cell_type": "code",
   "execution_count": null,
   "metadata": {},
   "outputs": [],
   "source": []
  }
 ],
 "metadata": {
  "kernelspec": {
   "display_name": "Julia 0.7.0",
   "language": "julia",
   "name": "julia-0.7"
  },
  "language_info": {
   "file_extension": ".jl",
   "mimetype": "application/julia",
   "name": "julia",
   "version": "0.7.0"
  }
 },
 "nbformat": 4,
 "nbformat_minor": 2
}
