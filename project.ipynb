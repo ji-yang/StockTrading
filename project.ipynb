{
 "cells": [
  {
   "cell_type": "markdown",
   "metadata": {},
   "source": [
    "# Equities Pair Trading with Kalman Filter"
   ]
  },
  {
   "cell_type": "code",
   "execution_count": 1,
   "metadata": {
    "scrolled": true
   },
   "outputs": [],
   "source": [
    "using Feather, DataFrames, CSV, DelimitedFiles, Statistics"
   ]
  },
  {
   "cell_type": "markdown",
   "metadata": {},
   "source": [
    "## Data Preprocessing"
   ]
  },
  {
   "cell_type": "markdown",
   "metadata": {},
   "source": [
    "#### The Financials Sector"
   ]
  },
  {
   "cell_type": "code",
   "execution_count": 2,
   "metadata": {
    "scrolled": true
   },
   "outputs": [
    {
     "data": {
      "text/plain": [
       "1215"
      ]
     },
     "execution_count": 2,
     "metadata": {},
     "output_type": "execute_result"
    }
   ],
   "source": [
    "fin = CSV.read(\"financial_stocks.csv\")\n",
    "fin_ticker_raw = fin.Ticker\n",
    "size(fin_ticker_raw,1)"
   ]
  },
  {
   "cell_type": "code",
   "execution_count": 3,
   "metadata": {},
   "outputs": [
    {
     "data": {
      "text/plain": [
       "(359, 6)"
      ]
     },
     "execution_count": 3,
     "metadata": {},
     "output_type": "execute_result"
    }
   ],
   "source": [
    "df = Feather.read(\"bar_data_1D/allDaily-A.feather\")\n",
    "size(df)"
   ]
  },
  {
   "cell_type": "code",
   "execution_count": 4,
   "metadata": {},
   "outputs": [
    {
     "data": {
      "text/html": [
       "<table class=\"data-frame\"><thead><tr><th></th><th>Date</th><th>Open</th><th>High</th><th>Low</th><th>Close</th><th>Volume</th></tr><tr><th></th><th>String</th><th>Float64</th><th>Float64</th><th>Float64</th><th>Float64</th><th>Int32</th></tr></thead><tbody><tr><th>1</th><td>2017-06-26</td><td>59.93</td><td>59.96</td><td>59.14</td><td>59.24</td><td>1467388</td></tr><tr><th>2</th><td>2017-06-27</td><td>59.13</td><td>59.57</td><td>58.84</td><td>58.88</td><td>1016895</td></tr><tr><th>3</th><td>2017-06-28</td><td>59.27</td><td>59.7</td><td>59.2</td><td>59.4</td><td>1152733</td></tr><tr><th>4</th><td>2017-06-29</td><td>59.35</td><td>59.63</td><td>58.49</td><td>58.8</td><td>1323217</td></tr><tr><th>5</th><td>2017-06-30</td><td>59.0</td><td>59.57</td><td>58.84</td><td>59.31</td><td>1507308</td></tr><tr><th>6</th><td>2017-07-03</td><td>59.59</td><td>59.98</td><td>59.12</td><td>59.13</td><td>1159308</td></tr></tbody></table>"
      ],
      "text/latex": [
       "\\begin{tabular}{r|cccccc}\n",
       "\t& Date & Open & High & Low & Close & Volume\\\\\n",
       "\t\\hline\n",
       "\t1 & 2017-06-26 & 59.93 & 59.96 & 59.14 & 59.24 & 1467388 \\\\\n",
       "\t2 & 2017-06-27 & 59.13 & 59.57 & 58.84 & 58.88 & 1016895 \\\\\n",
       "\t3 & 2017-06-28 & 59.27 & 59.7 & 59.2 & 59.4 & 1152733 \\\\\n",
       "\t4 & 2017-06-29 & 59.35 & 59.63 & 58.49 & 58.8 & 1323217 \\\\\n",
       "\t5 & 2017-06-30 & 59.0 & 59.57 & 58.84 & 59.31 & 1507308 \\\\\n",
       "\t6 & 2017-07-03 & 59.59 & 59.98 & 59.12 & 59.13 & 1159308 \\\\\n",
       "\\end{tabular}\n"
      ],
      "text/plain": [
       "6×6 DataFrame\n",
       "│ Row │ Date       │ Open    │ High    │ Low     │ Close   │ Volume  │\n",
       "│     │ \u001b[90mString\u001b[39m     │ \u001b[90mFloat64\u001b[39m │ \u001b[90mFloat64\u001b[39m │ \u001b[90mFloat64\u001b[39m │ \u001b[90mFloat64\u001b[39m │ \u001b[90mInt32\u001b[39m   │\n",
       "├─────┼────────────┼─────────┼─────────┼─────────┼─────────┼─────────┤\n",
       "│ 1   │ 2017-06-26 │ 59.93   │ 59.96   │ 59.14   │ 59.24   │ 1467388 │\n",
       "│ 2   │ 2017-06-27 │ 59.13   │ 59.57   │ 58.84   │ 58.88   │ 1016895 │\n",
       "│ 3   │ 2017-06-28 │ 59.27   │ 59.7    │ 59.2    │ 59.4    │ 1152733 │\n",
       "│ 4   │ 2017-06-29 │ 59.35   │ 59.63   │ 58.49   │ 58.8    │ 1323217 │\n",
       "│ 5   │ 2017-06-30 │ 59.0    │ 59.57   │ 58.84   │ 59.31   │ 1507308 │\n",
       "│ 6   │ 2017-07-03 │ 59.59   │ 59.98   │ 59.12   │ 59.13   │ 1159308 │"
      ]
     },
     "execution_count": 4,
     "metadata": {},
     "output_type": "execute_result"
    }
   ],
   "source": [
    "head(df)"
   ]
  },
  {
   "cell_type": "code",
   "execution_count": 5,
   "metadata": {},
   "outputs": [
    {
     "data": {
      "text/plain": [
       "(\"2017-06-26\", \"2018-11-26\")"
      ]
     },
     "execution_count": 5,
     "metadata": {},
     "output_type": "execute_result"
    }
   ],
   "source": [
    "df.Date[1], df.Date[end]"
   ]
  },
  {
   "cell_type": "code",
   "execution_count": 6,
   "metadata": {},
   "outputs": [
    {
     "data": {
      "text/plain": [
       "1215×359 Array{Int32,2}:\n",
       " 0  0  0  0  0  0  0  0  0  0  0  0  0  …  0  0  0  0  0  0  0  0  0  0  0  0\n",
       " 0  0  0  0  0  0  0  0  0  0  0  0  0     0  0  0  0  0  0  0  0  0  0  0  0\n",
       " 0  0  0  0  0  0  0  0  0  0  0  0  0     0  0  0  0  0  0  0  0  0  0  0  0\n",
       " 0  0  0  0  0  0  0  0  0  0  0  0  0     0  0  0  0  0  0  0  0  0  0  0  0\n",
       " 0  0  0  0  0  0  0  0  0  0  0  0  0     0  0  0  0  0  0  0  0  0  0  0  0\n",
       " 0  0  0  0  0  0  0  0  0  0  0  0  0  …  0  0  0  0  0  0  0  0  0  0  0  0\n",
       " 0  0  0  0  0  0  0  0  0  0  0  0  0     0  0  0  0  0  0  0  0  0  0  0  0\n",
       " 0  0  0  0  0  0  0  0  0  0  0  0  0     0  0  0  0  0  0  0  0  0  0  0  0\n",
       " 0  0  0  0  0  0  0  0  0  0  0  0  0     0  0  0  0  0  0  0  0  0  0  0  0\n",
       " 0  0  0  0  0  0  0  0  0  0  0  0  0     0  0  0  0  0  0  0  0  0  0  0  0\n",
       " 0  0  0  0  0  0  0  0  0  0  0  0  0  …  0  0  0  0  0  0  0  0  0  0  0  0\n",
       " 0  0  0  0  0  0  0  0  0  0  0  0  0     0  0  0  0  0  0  0  0  0  0  0  0\n",
       " 0  0  0  0  0  0  0  0  0  0  0  0  0     0  0  0  0  0  0  0  0  0  0  0  0\n",
       " ⋮              ⋮              ⋮        ⋱           ⋮              ⋮         \n",
       " 0  0  0  0  0  0  0  0  0  0  0  0  0     0  0  0  0  0  0  0  0  0  0  0  0\n",
       " 0  0  0  0  0  0  0  0  0  0  0  0  0     0  0  0  0  0  0  0  0  0  0  0  0\n",
       " 0  0  0  0  0  0  0  0  0  0  0  0  0  …  0  0  0  0  0  0  0  0  0  0  0  0\n",
       " 0  0  0  0  0  0  0  0  0  0  0  0  0     0  0  0  0  0  0  0  0  0  0  0  0\n",
       " 0  0  0  0  0  0  0  0  0  0  0  0  0     0  0  0  0  0  0  0  0  0  0  0  0\n",
       " 0  0  0  0  0  0  0  0  0  0  0  0  0     0  0  0  0  0  0  0  0  0  0  0  0\n",
       " 0  0  0  0  0  0  0  0  0  0  0  0  0     0  0  0  0  0  0  0  0  0  0  0  0\n",
       " 0  0  0  0  0  0  0  0  0  0  0  0  0  …  0  0  0  0  0  0  0  0  0  0  0  0\n",
       " 0  0  0  0  0  0  0  0  0  0  0  0  0     0  0  0  0  0  0  0  0  0  0  0  0\n",
       " 0  0  0  0  0  0  0  0  0  0  0  0  0     0  0  0  0  0  0  0  0  0  0  0  0\n",
       " 0  0  0  0  0  0  0  0  0  0  0  0  0     0  0  0  0  0  0  0  0  0  0  0  0\n",
       " 0  0  0  0  0  0  0  0  0  0  0  0  0     0  0  0  0  0  0  0  0  0  0  0  0"
      ]
     },
     "execution_count": 6,
     "metadata": {},
     "output_type": "execute_result"
    }
   ],
   "source": [
    "fin_data_raw = zeros((size(fin_ticker_raw,1), size(df,1)))\n",
    "fin_vol_raw = zeros(Int32, (size(fin_ticker_raw,1), size(df,1)))"
   ]
  },
  {
   "cell_type": "code",
   "execution_count": 7,
   "metadata": {},
   "outputs": [],
   "source": [
    "for i in 1:size(fin_ticker_raw,1)\n",
    "    try\n",
    "        filename = string(\"bar_data_1D/allDaily-\", fin_ticker_raw[i], \".feather\")\n",
    "        tmpdf = Feather.read(filename)\n",
    "        fin_data_raw[i,:] = [tmpdf.Close[j] for j in 1:size(tmpdf,1)]\n",
    "        fin_vol_raw[i,:] = [tmpdf.Volume[j] for j in 1:size(tmpdf,1)]\n",
    "    catch y\n",
    "        #@warn(\"Exception:\", y)\n",
    "    end\n",
    "end"
   ]
  },
  {
   "cell_type": "code",
   "execution_count": 8,
   "metadata": {},
   "outputs": [
    {
     "data": {
      "text/plain": [
       "1215×359 Array{Float64,2}:\n",
       "   0.0     0.0     0.0     0.0     0.0   …    0.0     0.0     0.0     0.0 \n",
       "   0.0     0.0     0.0     0.0     0.0        0.0     0.0     0.0     0.0 \n",
       "   0.0     0.0     0.0     0.0     0.0        0.0     0.0     0.0     0.0 \n",
       "  23.6    23.25   23.35   23.3    23.65      29.35   29.88   29.99   29.92\n",
       "  46.35   47.05   48.15   48.75   48.2       42.46   42.46   42.49   43.16\n",
       "  13.67   13.71   13.37   13.5    13.59  …    6.32    6.43    6.46    6.37\n",
       "  33.05   32.85   34.4    34.05   34.0       42.11   42.81   43.22   42.51\n",
       "   0.0     0.0     0.0     0.0     0.0        0.0     0.0     0.0     0.0 \n",
       "   0.0     0.0     0.0     0.0     0.0        0.0     0.0     0.0     0.0 \n",
       "   0.0     0.0     0.0     0.0     0.0        0.0     0.0     0.0     0.0 \n",
       "   0.0     0.0     0.0     0.0     0.0   …    0.0     0.0     0.0     0.0 \n",
       "  29.85   29.7    30.0    30.55   30.5       37.56   36.52   35.9    36.38\n",
       "   0.0     0.0     0.0     0.0     0.0        0.0     0.0     0.0     0.0 \n",
       "   ⋮                                     ⋱    ⋮                           \n",
       "  23.25   23.2    23.8    23.85   23.65      20.56   20.67   20.67   20.46\n",
       "   0.0     0.0     0.0     0.0     0.0        0.0     0.0     0.0     0.0 \n",
       "   0.0     0.0     0.0     0.0     0.0   …    0.0     0.0     0.0     0.0 \n",
       "  73.75   73.57   74.86   77.03   76.44      75.26   76.13   75.83   77.24\n",
       " 865.92  869.62  869.43  870.0   868.63     912.47  909.58  900.0   904.62\n",
       "  19.01   18.88   18.97   18.86   19.05      18.62   18.43   18.46   18.53\n",
       "   0.0     0.0     0.0     0.0     0.0        0.0     0.0     0.0     0.0 \n",
       "   0.0     0.0     0.0     0.0     0.0   …    0.0     0.0     0.0     0.0 \n",
       "   0.0     0.0     0.0     0.0     0.0        0.0     0.0     0.0     0.0 \n",
       "   0.0     0.0     0.0     0.0     0.0        0.0     0.0     0.0     0.0 \n",
       "  42.34   42.54   42.97   43.99   43.91      47.38   47.11   47.02   48.07\n",
       "   0.0     0.0     0.0     0.0     0.0        0.0     0.0     0.0     0.0 "
      ]
     },
     "execution_count": 8,
     "metadata": {},
     "output_type": "execute_result"
    }
   ],
   "source": [
    "fin_data_raw"
   ]
  },
  {
   "cell_type": "code",
   "execution_count": 9,
   "metadata": {},
   "outputs": [
    {
     "data": {
      "text/plain": [
       "465"
      ]
     },
     "execution_count": 9,
     "metadata": {},
     "output_type": "execute_result"
    }
   ],
   "source": [
    "cnt = 0\n",
    "for i in 1:size(fin_data_raw,1)\n",
    "    if fin_data_raw[i,1] != 0\n",
    "        cnt += 1\n",
    "    end\n",
    "end\n",
    "cnt"
   ]
  },
  {
   "cell_type": "code",
   "execution_count": 10,
   "metadata": {},
   "outputs": [],
   "source": [
    "fin_data = zeros((cnt, size(df,1)))\n",
    "fin_vol = zeros(Int32, (cnt, size(df,1)))\n",
    "fin_ticker = Array{String}(undef, cnt)\n",
    "n = 0\n",
    "for i in 1:size(fin_data_raw,1)\n",
    "    if fin_data_raw[i,1] != 0\n",
    "        n += 1\n",
    "        fin_data[n,:] = [fin_data_raw[i,k] for k in 1:size(fin_data_raw, 2)]\n",
    "        fin_vol[n,:] = [fin_vol_raw[i,k] for k in 1:size(fin_vol_raw, 2)]\n",
    "        fin_ticker[n] = fin_ticker_raw[i]\n",
    "    end\n",
    "end"
   ]
  },
  {
   "cell_type": "code",
   "execution_count": 11,
   "metadata": {
    "scrolled": true
   },
   "outputs": [],
   "source": [
    "@assert(n == cnt)"
   ]
  },
  {
   "cell_type": "markdown",
   "metadata": {},
   "source": [
    "Filter valid data"
   ]
  },
  {
   "cell_type": "code",
   "execution_count": 12,
   "metadata": {},
   "outputs": [],
   "source": [
    "open(\"finticker.csv\", \"w\") do f\n",
    "    writedlm(f, fin_ticker, ',')\n",
    "end\n",
    "\n",
    "open(\"findata.csv\", \"w\") do f\n",
    "    writedlm(f, fin_data, ',')\n",
    "end\n",
    "\n",
    "open(\"finvol.csv\", \"w\") do f\n",
    "    writedlm(f, fin_vol, ',')\n",
    "end"
   ]
  },
  {
   "cell_type": "markdown",
   "metadata": {},
   "source": [
    "#### The Technology Sector"
   ]
  },
  {
   "cell_type": "code",
   "execution_count": 13,
   "metadata": {},
   "outputs": [
    {
     "data": {
      "text/plain": [
       "327"
      ]
     },
     "execution_count": 13,
     "metadata": {},
     "output_type": "execute_result"
    }
   ],
   "source": [
    "tech = CSV.read(\"technology_stocks.csv\")\n",
    "tech_ticker_raw = tech.Ticker\n",
    "size(tech_ticker_raw,1)"
   ]
  },
  {
   "cell_type": "code",
   "execution_count": 14,
   "metadata": {},
   "outputs": [
    {
     "data": {
      "text/plain": [
       "327×359 Array{Int32,2}:\n",
       " 0  0  0  0  0  0  0  0  0  0  0  0  0  …  0  0  0  0  0  0  0  0  0  0  0  0\n",
       " 0  0  0  0  0  0  0  0  0  0  0  0  0     0  0  0  0  0  0  0  0  0  0  0  0\n",
       " 0  0  0  0  0  0  0  0  0  0  0  0  0     0  0  0  0  0  0  0  0  0  0  0  0\n",
       " 0  0  0  0  0  0  0  0  0  0  0  0  0     0  0  0  0  0  0  0  0  0  0  0  0\n",
       " 0  0  0  0  0  0  0  0  0  0  0  0  0     0  0  0  0  0  0  0  0  0  0  0  0\n",
       " 0  0  0  0  0  0  0  0  0  0  0  0  0  …  0  0  0  0  0  0  0  0  0  0  0  0\n",
       " 0  0  0  0  0  0  0  0  0  0  0  0  0     0  0  0  0  0  0  0  0  0  0  0  0\n",
       " 0  0  0  0  0  0  0  0  0  0  0  0  0     0  0  0  0  0  0  0  0  0  0  0  0\n",
       " 0  0  0  0  0  0  0  0  0  0  0  0  0     0  0  0  0  0  0  0  0  0  0  0  0\n",
       " 0  0  0  0  0  0  0  0  0  0  0  0  0     0  0  0  0  0  0  0  0  0  0  0  0\n",
       " 0  0  0  0  0  0  0  0  0  0  0  0  0  …  0  0  0  0  0  0  0  0  0  0  0  0\n",
       " 0  0  0  0  0  0  0  0  0  0  0  0  0     0  0  0  0  0  0  0  0  0  0  0  0\n",
       " 0  0  0  0  0  0  0  0  0  0  0  0  0     0  0  0  0  0  0  0  0  0  0  0  0\n",
       " ⋮              ⋮              ⋮        ⋱           ⋮              ⋮         \n",
       " 0  0  0  0  0  0  0  0  0  0  0  0  0  …  0  0  0  0  0  0  0  0  0  0  0  0\n",
       " 0  0  0  0  0  0  0  0  0  0  0  0  0     0  0  0  0  0  0  0  0  0  0  0  0\n",
       " 0  0  0  0  0  0  0  0  0  0  0  0  0     0  0  0  0  0  0  0  0  0  0  0  0\n",
       " 0  0  0  0  0  0  0  0  0  0  0  0  0     0  0  0  0  0  0  0  0  0  0  0  0\n",
       " 0  0  0  0  0  0  0  0  0  0  0  0  0     0  0  0  0  0  0  0  0  0  0  0  0\n",
       " 0  0  0  0  0  0  0  0  0  0  0  0  0  …  0  0  0  0  0  0  0  0  0  0  0  0\n",
       " 0  0  0  0  0  0  0  0  0  0  0  0  0     0  0  0  0  0  0  0  0  0  0  0  0\n",
       " 0  0  0  0  0  0  0  0  0  0  0  0  0     0  0  0  0  0  0  0  0  0  0  0  0\n",
       " 0  0  0  0  0  0  0  0  0  0  0  0  0     0  0  0  0  0  0  0  0  0  0  0  0\n",
       " 0  0  0  0  0  0  0  0  0  0  0  0  0     0  0  0  0  0  0  0  0  0  0  0  0\n",
       " 0  0  0  0  0  0  0  0  0  0  0  0  0  …  0  0  0  0  0  0  0  0  0  0  0  0\n",
       " 0  0  0  0  0  0  0  0  0  0  0  0  0     0  0  0  0  0  0  0  0  0  0  0  0"
      ]
     },
     "execution_count": 14,
     "metadata": {},
     "output_type": "execute_result"
    }
   ],
   "source": [
    "tech_data_raw = zeros((size(tech_ticker_raw,1), size(df,1)))\n",
    "tech_vol_raw = zeros(Int32, (size(tech_ticker_raw,1), size(df,1)))"
   ]
  },
  {
   "cell_type": "code",
   "execution_count": 15,
   "metadata": {},
   "outputs": [],
   "source": [
    "for i in 1:size(tech_ticker_raw,1)\n",
    "    try\n",
    "        filename = string(\"bar_data_1D/allDaily-\", tech_ticker_raw[i], \".feather\")\n",
    "        tmpdf = Feather.read(filename)\n",
    "        tech_data_raw[i,:] = [tmpdf.Close[j] for j in 1:size(tmpdf,1)]\n",
    "        tech_vol_raw[i,:] = [tmpdf.Volume[j] for j in 1:size(tmpdf,1)]\n",
    "    catch y\n",
    "        #@warn(\"Exception:\", y)\n",
    "    end\n",
    "end"
   ]
  },
  {
   "cell_type": "code",
   "execution_count": 16,
   "metadata": {},
   "outputs": [
    {
     "data": {
      "text/plain": [
       "132"
      ]
     },
     "execution_count": 16,
     "metadata": {},
     "output_type": "execute_result"
    }
   ],
   "source": [
    "cnt = 0\n",
    "for i in 1:size(tech_data_raw,1)\n",
    "    if tech_data_raw[i,1] != 0\n",
    "        cnt += 1\n",
    "    end\n",
    "end\n",
    "cnt"
   ]
  },
  {
   "cell_type": "code",
   "execution_count": 17,
   "metadata": {},
   "outputs": [],
   "source": [
    "tech_data = zeros((cnt, size(df,1)))\n",
    "tech_vol = zeros(Int32, (cnt, size(df,1)))\n",
    "tech_ticker = Array{String}(undef, cnt)\n",
    "n = 0\n",
    "for i in 1:size(tech_data_raw,1)\n",
    "    if tech_data_raw[i,1] != 0\n",
    "        n += 1\n",
    "        tech_data[n,:] = [tech_data_raw[i,k] for k in 1:size(tech_data_raw, 2)]\n",
    "        tech_vol[n,:] = [tech_vol_raw[i,k] for k in 1:size(tech_vol_raw, 2)]\n",
    "        tech_ticker[n] = tech_ticker_raw[i]\n",
    "    end\n",
    "end\n",
    "@assert(n == cnt)"
   ]
  },
  {
   "cell_type": "code",
   "execution_count": 18,
   "metadata": {},
   "outputs": [],
   "source": [
    "open(\"techticker.csv\", \"w\") do f\n",
    "    writedlm(f, tech_ticker, ',')\n",
    "end\n",
    "\n",
    "open(\"techdata.csv\", \"w\") do f\n",
    "    writedlm(f, tech_data, ',')\n",
    "end\n",
    "\n",
    "open(\"techvol.csv\", \"w\") do f\n",
    "    writedlm(f, tech_vol, ',')\n",
    "end"
   ]
  },
  {
   "cell_type": "code",
   "execution_count": 19,
   "metadata": {},
   "outputs": [
    {
     "data": {
      "text/plain": [
       "132×359 Array{Float64,2}:\n",
       " 145.82  143.73  145.83  143.68  144.02  …  176.98  176.78  172.29  174.62\n",
       " 122.34  122.19  123.74  122.99  123.68     158.9   156.98  156.93  158.4 \n",
       "  80.57   78.14   79.2    77.74   77.8       89.02   89.68   88.64   90.07\n",
       "  20.0    20.05   20.5    20.4    20.65      12.55   12.94   12.87   12.73\n",
       "  43.25   41.89   42.69   41.44   41.31      35.77   35.19   35.05   36.01\n",
       "  26.69   26.54   26.99   26.64   27.22  …   44.33   46.25   46.7    46.94\n",
       "  10.81   10.54   10.67   10.21   10.29      10.39   10.84   11.01   10.93\n",
       "  74.76   74.23   75.11   73.76   73.82      84.17   84.87   84.98   84.95\n",
       " 133.78  132.37  134.99  129.6   130.31     161.33  163.91  163.66  167.43\n",
       "  60.22   58.29   58.81   57.58   57.57      49.26   50.85   50.05   50.91\n",
       " 242.75  235.33  241.05  234.04  233.05  …  227.71  230.0   229.9   235.31\n",
       "  38.94   38.63   39.2    38.98   38.88      42.04   42.76   42.77   43.36\n",
       "  16.56   16.16   16.55   16.35   16.34      15.77   16.02   16.17   16.06\n",
       "   ⋮                                     ⋱    ⋮                           \n",
       "  36.13   35.09   35.35   34.81   34.96  …   35.64   36.17   35.96   36.84\n",
       "  78.31   76.95   78.06   76.9    76.93      96.84   96.13   95.1    96.38\n",
       "  19.0    18.8    18.85   18.25   18.3       16.87   17.23   17.12   17.31\n",
       "   2.11    2.11    2.33    2.4     2.44       1.74    1.76    1.77    1.83\n",
       "  16.6    16.5    16.9    16.65   16.6       18.95   19.22   19.42   19.35\n",
       "  92.66   91.85   93.67   91.65   88.6   …   45.68   46.9    47.34   47.92\n",
       "  43.1    43.0    43.55   42.45   42.7       48.55   48.2    48.06   48.95\n",
       "   5.12    5.1     5.1     5.13    5.2        5.07    5.12    5.08    5.1 \n",
       " 154.13  151.23  152.88  152.82  154.2      147.45  150.93  149.54  150.8 \n",
       "  19.4    19.32   19.3    19.3    19.35      11.35   11.7    11.91   11.54\n",
       "  67.36   65.1    66.01   64.18   64.32  …   84.68   86.5    87.26   89.01\n",
       "  29.19   28.98   29.29   29.12   28.73      25.29   25.19   25.37   25.84"
      ]
     },
     "execution_count": 19,
     "metadata": {},
     "output_type": "execute_result"
    }
   ],
   "source": [
    "DelimitedFiles.readdlm(\"techdata.csv\", ',')"
   ]
  },
  {
   "cell_type": "markdown",
   "metadata": {},
   "source": [
    "## Data Filtration\n",
    "The data filtration is based on stock beta and market cap. We need firstly figure out the beta and average daily volume (ADV) for each stock.<br>\n",
    "First 200 days of data are used for this filtering process."
   ]
  },
  {
   "cell_type": "markdown",
   "metadata": {},
   "source": [
    "### Beta Calculation"
   ]
  },
  {
   "cell_type": "code",
   "execution_count": 20,
   "metadata": {},
   "outputs": [
    {
     "data": {
      "text/plain": [
       "132×359 Array{Float64,2}:\n",
       " 145.82  143.73  145.83  143.68  144.02  …  176.98  176.78  172.29  174.62\n",
       " 122.34  122.19  123.74  122.99  123.68     158.9   156.98  156.93  158.4 \n",
       "  80.57   78.14   79.2    77.74   77.8       89.02   89.68   88.64   90.07\n",
       "  20.0    20.05   20.5    20.4    20.65      12.55   12.94   12.87   12.73\n",
       "  43.25   41.89   42.69   41.44   41.31      35.77   35.19   35.05   36.01\n",
       "  26.69   26.54   26.99   26.64   27.22  …   44.33   46.25   46.7    46.94\n",
       "  10.81   10.54   10.67   10.21   10.29      10.39   10.84   11.01   10.93\n",
       "  74.76   74.23   75.11   73.76   73.82      84.17   84.87   84.98   84.95\n",
       " 133.78  132.37  134.99  129.6   130.31     161.33  163.91  163.66  167.43\n",
       "  60.22   58.29   58.81   57.58   57.57      49.26   50.85   50.05   50.91\n",
       " 242.75  235.33  241.05  234.04  233.05  …  227.71  230.0   229.9   235.31\n",
       "  38.94   38.63   39.2    38.98   38.88      42.04   42.76   42.77   43.36\n",
       "  16.56   16.16   16.55   16.35   16.34      15.77   16.02   16.17   16.06\n",
       "   ⋮                                     ⋱    ⋮                           \n",
       "  36.13   35.09   35.35   34.81   34.96  …   35.64   36.17   35.96   36.84\n",
       "  78.31   76.95   78.06   76.9    76.93      96.84   96.13   95.1    96.38\n",
       "  19.0    18.8    18.85   18.25   18.3       16.87   17.23   17.12   17.31\n",
       "   2.11    2.11    2.33    2.4     2.44       1.74    1.76    1.77    1.83\n",
       "  16.6    16.5    16.9    16.65   16.6       18.95   19.22   19.42   19.35\n",
       "  92.66   91.85   93.67   91.65   88.6   …   45.68   46.9    47.34   47.92\n",
       "  43.1    43.0    43.55   42.45   42.7       48.55   48.2    48.06   48.95\n",
       "   5.12    5.1     5.1     5.13    5.2        5.07    5.12    5.08    5.1 \n",
       " 154.13  151.23  152.88  152.82  154.2      147.45  150.93  149.54  150.8 \n",
       "  19.4    19.32   19.3    19.3    19.35      11.35   11.7    11.91   11.54\n",
       "  67.36   65.1    66.01   64.18   64.32  …   84.68   86.5    87.26   89.01\n",
       "  29.19   28.98   29.29   29.12   28.73      25.29   25.19   25.37   25.84"
      ]
     },
     "execution_count": 20,
     "metadata": {},
     "output_type": "execute_result"
    }
   ],
   "source": [
    "fin_data = DelimitedFiles.readdlm(\"findata.csv\", ',')\n",
    "tech_data = DelimitedFiles.readdlm(\"techdata.csv\", ',')"
   ]
  },
  {
   "cell_type": "markdown",
   "metadata": {},
   "source": [
    "Calculate daily returns"
   ]
  },
  {
   "cell_type": "code",
   "execution_count": 21,
   "metadata": {},
   "outputs": [
    {
     "data": {
      "text/plain": [
       "132×358 Array{Float64,2}:\n",
       " -0.0143327    0.0146107   -0.0147432    …  -0.0253988     0.0135237  \n",
       " -0.00122609   0.0126852   -0.0060611       -0.000318512   0.00936723 \n",
       " -0.0301601    0.0135654   -0.0184343       -0.0115968     0.0161327  \n",
       "  0.0025       0.0224439   -0.00487805      -0.00540958   -0.010878   \n",
       " -0.0314451    0.0190976   -0.0292809       -0.0039784     0.0273894  \n",
       " -0.00562008   0.0169555   -0.0129678    …   0.00972973    0.00513919 \n",
       " -0.0249769    0.012334    -0.0431115        0.0156827    -0.00726612 \n",
       " -0.00708935   0.011855    -0.0179736        0.0012961    -0.000353024\n",
       " -0.0105397    0.019793    -0.0399289       -0.00152523    0.0230356  \n",
       " -0.0320492    0.00892091  -0.0209148       -0.0157325     0.0171828  \n",
       " -0.0305664    0.0243063   -0.0290811    …  -0.000434783   0.023532   \n",
       " -0.00796097   0.0147554   -0.00561224       0.000233863   0.0137947  \n",
       " -0.0241546    0.0241337   -0.0120846        0.0093633    -0.00680272 \n",
       "  ⋮                                      ⋱                            \n",
       " -0.0287849    0.00740952  -0.0152758    …  -0.00580592    0.0244716  \n",
       " -0.0173669    0.014425    -0.0148604       -0.0107147     0.0134595  \n",
       " -0.0105263    0.00265957  -0.0318302       -0.00638421    0.0110981  \n",
       "  0.0          0.104265     0.0300429        0.00568182    0.0338983  \n",
       " -0.0060241    0.0242424   -0.0147929        0.0104058    -0.00360453 \n",
       " -0.00874164   0.0198149   -0.0215651    …   0.00938166    0.0122518  \n",
       " -0.00232019   0.0127907   -0.0252583       -0.00290456    0.0185185  \n",
       " -0.00390625   0.0          0.00588235      -0.0078125     0.00393701 \n",
       " -0.0188153    0.0109105   -0.000392465     -0.00920957    0.00842584 \n",
       " -0.00412371  -0.0010352    0.0              0.0179487    -0.0310663  \n",
       " -0.0335511    0.0139785   -0.0277231    …   0.00878613    0.020055   \n",
       " -0.00719424   0.010697    -0.00580403       0.00714569    0.0185258  "
      ]
     },
     "execution_count": 21,
     "metadata": {},
     "output_type": "execute_result"
    }
   ],
   "source": [
    "fin_ret = fin_data[:,2:end] ./ fin_data[:,1:end-1] .- 1\n",
    "tech_ret = tech_data[:,2:end] ./ tech_data[:,1:end-1] .- 1"
   ]
  },
  {
   "cell_type": "code",
   "execution_count": 22,
   "metadata": {},
   "outputs": [
    {
     "data": {
      "text/plain": [
       "358-element Array{Float64,1}:\n",
       " -0.01642846955044497  \n",
       "  0.01252721878795926  \n",
       " -0.01793082269815094  \n",
       " -0.0009129112977402931\n",
       " -0.006944361415459954 \n",
       "  0.009937389199596192 \n",
       " -0.009110795928583326 \n",
       "  0.011585071629201416 \n",
       "  0.007271427552016263 \n",
       "  0.0021656916931596104\n",
       "  0.012965923064585994 \n",
       "  0.0019556664828563886\n",
       "  0.00887149418455735  \n",
       "  ⋮                    \n",
       " -0.000843483797700828 \n",
       " -0.01730693682285067  \n",
       " -0.03522335539652666  \n",
       "  0.0011873256687737754\n",
       " -0.012007071034791927 \n",
       "  0.02505623330663953  \n",
       " -0.0016100848946135615\n",
       " -0.0381175493053445   \n",
       " -0.021490687067662106 \n",
       "  0.007320888192565045 \n",
       " -0.009123179499711975 \n",
       "  0.02262791752097648  "
      ]
     },
     "execution_count": 22,
     "metadata": {},
     "output_type": "execute_result"
    }
   ],
   "source": [
    "spy = CSV.read(\"SPY.csv\")\n",
    "spy_data = spy.Adj\n",
    "spy_ret = spy_data[2:end] ./ spy_data[1:end-1] .- 1\n",
    "\n",
    "xlf = CSV.read(\"XLF.csv\")\n",
    "xlf_data = xlf.Adj\n",
    "xlf_ret = xlf_data[2:end] ./ xlf_data[1:end-1] .- 1\n",
    "\n",
    "xlk = CSV.read(\"XLK.csv\")\n",
    "xlk_data = xlk.Adj\n",
    "xlk_ret = xlk_data[2:end] ./ xlk_data[1:end-1] .- 1"
   ]
  },
  {
   "cell_type": "markdown",
   "metadata": {},
   "source": [
    "Compute beta\n",
    "$$\\beta_s = \\frac{Cov(r_s\\cdot r_m)}{Var(r_m)}$$"
   ]
  },
  {
   "cell_type": "code",
   "execution_count": 23,
   "metadata": {},
   "outputs": [
    {
     "data": {
      "text/plain": [
       "132-element Array{Float64,1}:\n",
       "  0.9840402705323659 \n",
       "  0.7954807137863318 \n",
       "  1.0140488753985606 \n",
       "  0.4554084828357748 \n",
       "  1.6527798286201585 \n",
       "  0.5534114697994453 \n",
       "  0.6276404766211574 \n",
       "  0.7100776972104891 \n",
       "  1.192695765830311  \n",
       "  1.267669032300593  \n",
       "  1.0472403395289165 \n",
       "  0.6765664354177291 \n",
       "  0.7873835443099566 \n",
       "  ⋮                  \n",
       "  0.9540394876244636 \n",
       "  1.1023035058111603 \n",
       "  0.512740415992383  \n",
       "  0.46347026411786846\n",
       "  0.8107518704732612 \n",
       "  1.0481545032291388 \n",
       "  0.6539003117258995 \n",
       "  0.4372294533449464 \n",
       "  0.4341276957185432 \n",
       " -0.07384774417942211\n",
       "  1.1373079954357863 \n",
       "  0.5463467002994926 "
      ]
     },
     "execution_count": 23,
     "metadata": {},
     "output_type": "execute_result"
    }
   ],
   "source": [
    "fin_beta_spy = [Statistics.cov(fin_ret[i,1:200], spy_ret[1:200]) / Statistics.var(spy_ret[1:200]) for i in 1:size(fin_ret,1)]\n",
    "fin_beta_xlf = [Statistics.cov(fin_ret[i,1:200], xlf_ret[1:200]) / Statistics.var(xlf_ret[1:200]) for i in 1:size(fin_ret,1)]\n",
    "tech_beta_spy = [Statistics.cov(tech_ret[i,1:200], spy_ret[1:200]) / Statistics.var(spy_ret[1:200]) for i in 1:size(tech_ret,1)]\n",
    "tech_beta_xlk = [Statistics.cov(tech_ret[i,1:200], xlk_ret[1:200]) / Statistics.var(xlk_ret[1:200]) for i in 1:size(tech_ret,1)]"
   ]
  },
  {
   "cell_type": "markdown",
   "metadata": {},
   "source": [
    "### ADV Calculation"
   ]
  },
  {
   "cell_type": "code",
   "execution_count": 24,
   "metadata": {},
   "outputs": [
    {
     "data": {
      "text/plain": [
       "132×359 Array{Float64,2}:\n",
       "      2.40809e7       2.3876e7   …       2.1874e7        4.18452e7\n",
       "      2.56219e6       2.17024e6     902931.0             1.9954e6 \n",
       "      2.36906e6       3.97441e6          1.10139e6       2.12514e6\n",
       " 271199.0        189537.0            56747.0        154205.0      \n",
       "      9.76372e6       1.25414e7          5.06396e6       1.07919e7\n",
       "  18563.0         17905.0        …   35886.0         58494.0      \n",
       "  76978.0        175290.0            28271.0         55766.0      \n",
       " 891631.0             1.02075e6     784254.0             1.34333e6\n",
       " 814367.0             1.21216e6     507616.0        663047.0      \n",
       "      4.19403e6       7.11424e6          4.99524e6       8.94587e6\n",
       "      3.10605e6       3.15651e6  …  776416.0             2.45528e6\n",
       " 829370.0             1.53205e6     698226.0        726995.0      \n",
       " 201866.0        103638.0            71113.0        380208.0      \n",
       "      ⋮                          ⋱                                \n",
       "      9.87231e6       7.84308e6  …       2.2311e6        6.92891e6\n",
       "      4.81472e6       5.65232e6          2.02988e6       3.84604e6\n",
       "  96686.0        180304.0            41518.0        139869.0      \n",
       "      2.91183e6       1.54721e6     259009.0             1.19066e6\n",
       " 759109.0             1.21503e6     608924.0             2.16122e6\n",
       "      3.291e6         5.21365e6  …       3.19278e6       3.79616e6\n",
       "  36764.0         54404.0            25302.0         50624.0      \n",
       "      1.0044e6   906565.0           542415.0        806836.0      \n",
       " 294618.0        259385.0           120458.0        160406.0      \n",
       "   5314.0          3444.0             1326.0          4221.0      \n",
       "      2.18531e6       3.11883e6  …       1.08009e6       2.6354e6 \n",
       "      5.08053e6       3.87979e6          1.8862e6        2.46791e6"
      ]
     },
     "execution_count": 24,
     "metadata": {},
     "output_type": "execute_result"
    }
   ],
   "source": [
    "fin_vol = DelimitedFiles.readdlm(\"finvol.csv\", ',')\n",
    "tech_vol = DelimitedFiles.readdlm(\"techvol.csv\", ',')"
   ]
  },
  {
   "cell_type": "code",
   "execution_count": 25,
   "metadata": {},
   "outputs": [
    {
     "data": {
      "text/plain": [
       "132×1 Array{Float64,2}:\n",
       "      2.767241929e7       \n",
       "      1.9391751e6         \n",
       "      2.42623198e6        \n",
       " 400459.055               \n",
       "      1.1250479165000001e7\n",
       "  32846.115               \n",
       "  65294.92                \n",
       "      1.114116095e6       \n",
       " 728209.41                \n",
       "      5.82877133e6        \n",
       "      3.045857825e6       \n",
       " 828269.385               \n",
       " 160990.98500000002       \n",
       "      ⋮                   \n",
       "      5.556212845e6       \n",
       "      4.49222443e6        \n",
       " 308346.775               \n",
       "      1.438525745e6       \n",
       "      1.3075516300000001e6\n",
       "      3.792593515e6       \n",
       "  73240.065               \n",
       "      1.37506275e6        \n",
       " 234357.01                \n",
       "   9126.135               \n",
       "      2.201907965e6       \n",
       "      2.19282547e6        "
      ]
     },
     "execution_count": 25,
     "metadata": {},
     "output_type": "execute_result"
    }
   ],
   "source": [
    "fin_adv = mean(fin_vol[:,1:200], dims=2)\n",
    "tech_adv = mean(tech_vol[:,1:200], dims=2)"
   ]
  },
  {
   "cell_type": "markdown",
   "metadata": {},
   "source": [
    "### Filtration\n",
    "Filtration criteria:<br>\n",
    "<ul>\n",
    "    <li>Sector neutral: The pair is in the same sector.</li>\n",
    "    <li>Beta neutral: The beta (both market beta and index beta) difference between the pair is below 0.2.</li>\n",
    "    <li>Market cap neutral: the market cap of the pair is comparable with each other, estimated by ADV*price. The smaller one is above 80% of the larger one.</li>\n",
    "    <li>Liquidity: The stocks are liquid in the market. ADV is above 5 million.</li>\n",
    "</ul>"
   ]
  },
  {
   "cell_type": "code",
   "execution_count": 26,
   "metadata": {},
   "outputs": [],
   "source": [
    "fin_pair = []\n",
    "for i in 1:size(fin_ret, 1)\n",
    "    for j in i+1:size(fin_ret, 1)\n",
    "        if abs(fin_beta_spy[i] - fin_beta_spy[j]) < 0.2 && abs(fin_beta_xlf[i] - fin_beta_xlf[j]) < 0.2 && \n",
    "            0.8 < (fin_data[i,1]*fin_adv[i])/(fin_data[j,1]*fin_adv[j]) < 1.25 && \n",
    "            fin_adv[i] > 5.0e6 && fin_adv[j] > 5.0e6\n",
    "            push!(fin_pair, [i, j])\n",
    "        end\n",
    "    end\n",
    "end"
   ]
  },
  {
   "cell_type": "code",
   "execution_count": 27,
   "metadata": {},
   "outputs": [
    {
     "data": {
      "text/plain": [
       "8-element Array{Any,1}:\n",
       " [45, 222] \n",
       " [85, 237] \n",
       " [85, 452] \n",
       " [237, 452]\n",
       " [240, 357]\n",
       " [240, 399]\n",
       " [271, 438]\n",
       " [357, 399]"
      ]
     },
     "execution_count": 27,
     "metadata": {},
     "output_type": "execute_result"
    }
   ],
   "source": [
    "fin_pair"
   ]
  },
  {
   "cell_type": "code",
   "execution_count": 28,
   "metadata": {},
   "outputs": [
    {
     "data": {
      "text/plain": [
       "10-element Array{Any,1}:\n",
       " \"BBD\"\n",
       " \"C\"  \n",
       " \"IBN\"\n",
       " \"JPM\"\n",
       " \"KEY\"\n",
       " \"MET\"\n",
       " \"RF\" \n",
       " \"SYF\"\n",
       " \"USB\"\n",
       " \"WFC\""
      ]
     },
     "execution_count": 28,
     "metadata": {},
     "output_type": "execute_result"
    }
   ],
   "source": [
    "fin_ticker = DelimitedFiles.readdlm(\"finticker.csv\", ',')\n",
    "fin_ticker[[45, 85, 222, 237, 240, 271, 357, 399, 438, 452]]"
   ]
  },
  {
   "cell_type": "code",
   "execution_count": 29,
   "metadata": {},
   "outputs": [],
   "source": [
    "tech_pair = []\n",
    "for i in 1:size(tech_ret, 1)\n",
    "    for j in i+1:size(tech_ret, 1)\n",
    "        if abs(tech_beta_spy[i] - tech_beta_spy[j]) < 0.2 && abs(tech_beta_xlk[i] - tech_beta_xlk[j]) < 0.2 &&\n",
    "            0.8 < (tech_data[i,1]*tech_adv[i])/(tech_data[j,1]*tech_adv[j]) < 1.25 &&\n",
    "            tech_adv[i] > 5.0e6 && tech_adv[j] > 5.0e6\n",
    "            push!(tech_pair, [i, j])\n",
    "        end\n",
    "    end\n",
    "end"
   ]
  },
  {
   "cell_type": "code",
   "execution_count": 30,
   "metadata": {},
   "outputs": [
    {
     "data": {
      "text/plain": [
       "8-element Array{Any,1}:\n",
       " [29, 100] \n",
       " [47, 51]  \n",
       " [47, 52]  \n",
       " [47, 121] \n",
       " [51, 52]  \n",
       " [51, 121] \n",
       " [52, 121] \n",
       " [115, 121]"
      ]
     },
     "execution_count": 30,
     "metadata": {},
     "output_type": "execute_result"
    }
   ],
   "source": [
    "tech_pair"
   ]
  },
  {
   "cell_type": "code",
   "execution_count": 31,
   "metadata": {},
   "outputs": [
    {
     "data": {
      "text/plain": [
       "7-element Array{Any,1}:\n",
       " \"CSCO\"\n",
       " \"GLW\" \n",
       " \"HPE\" \n",
       " \"HPQ\" \n",
       " \"QCOM\"\n",
       " \"SYMC\"\n",
       " \"TSM\" "
      ]
     },
     "execution_count": 31,
     "metadata": {},
     "output_type": "execute_result"
    }
   ],
   "source": [
    "tech_ticker = DelimitedFiles.readdlm(\"techticker.csv\", ',')\n",
    "tech_ticker[[29, 47, 51, 52, 100, 115, 121]]"
   ]
  },
  {
   "cell_type": "code",
   "execution_count": null,
   "metadata": {},
   "outputs": [],
   "source": []
  }
 ],
 "metadata": {
  "kernelspec": {
   "display_name": "Julia 0.7.0",
   "language": "julia",
   "name": "julia-0.7"
  },
  "language_info": {
   "file_extension": ".jl",
   "mimetype": "application/julia",
   "name": "julia",
   "version": "0.7.0"
  }
 },
 "nbformat": 4,
 "nbformat_minor": 2
}
